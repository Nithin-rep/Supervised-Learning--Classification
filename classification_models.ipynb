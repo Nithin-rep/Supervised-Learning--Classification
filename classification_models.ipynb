{
 "cells": [
  {
   "cell_type": "code",
   "execution_count": 29,
   "metadata": {},
   "outputs": [],
   "source": [
    "import numpy as np\n",
    "import pandas as pd\n",
    "import matplotlib.pyplot as plt"
   ]
  },
  {
   "cell_type": "code",
   "execution_count": 30,
   "metadata": {},
   "outputs": [
    {
     "name": "stdout",
     "output_type": "stream",
     "text": [
      "   Age  EstimatedSalary  Purchased\n",
      "0   19            19000          0\n",
      "1   35            20000          0\n",
      "2   26            43000          0\n",
      "3   27            57000          0\n",
      "4   19            76000          0\n"
     ]
    }
   ],
   "source": [
    "dataset = pd.read_csv(\"Social_Network_Ads.csv\")\n",
    "print(dataset.head(5))\n",
    "\n",
    "X = dataset.iloc[: , :-1].values\n",
    "Y = dataset.iloc[:, -1].values"
   ]
  },
  {
   "cell_type": "code",
   "execution_count": 31,
   "metadata": {},
   "outputs": [
    {
     "data": {
      "text/plain": [
       "'\\n\\nfrom sklearn.preprocessing import OneHotEncoder\\nfrom sklearn.compose import ColumnTransformer\\n\\nct = ColumnTransformer(transformers=[(\"encoder\", OneHotEncoder(), [-1])], remainder=\"passthrough\")\\nX = np.array(ct.fit_transform(X)) \\nprint(X)\\n\\n'"
      ]
     },
     "execution_count": 31,
     "metadata": {},
     "output_type": "execute_result"
    }
   ],
   "source": [
    "\"\"\"\n",
    "\n",
    "from sklearn.preprocessing import OneHotEncoder\n",
    "from sklearn.compose import ColumnTransformer\n",
    "\n",
    "ct = ColumnTransformer(transformers=[(\"encoder\", OneHotEncoder(), [-1])], remainder=\"passthrough\")\n",
    "X = np.array(ct.fit_transform(X)) \n",
    "print(X)\n",
    "\n",
    "\"\"\""
   ]
  },
  {
   "cell_type": "code",
   "execution_count": 32,
   "metadata": {},
   "outputs": [],
   "source": [
    "from sklearn.preprocessing import StandardScaler\n",
    "sc = StandardScaler()\n",
    "x = sc.fit_transform(X)"
   ]
  },
  {
   "cell_type": "code",
   "execution_count": 33,
   "metadata": {},
   "outputs": [],
   "source": [
    "from sklearn.model_selection import train_test_split\n",
    "x_train, x_test, y_train, y_test = train_test_split(X, Y,train_size=0.8, random_state=10)"
   ]
  },
  {
   "cell_type": "code",
   "execution_count": 34,
   "metadata": {},
   "outputs": [],
   "source": [
    "from sklearn.linear_model import LogisticRegression\n",
    "from sklearn.naive_bayes import GaussianNB\n",
    "from sklearn.neighbors import KNeighborsClassifier\n",
    "from sklearn.svm import SVC\n",
    "from sklearn.tree import DecisionTreeClassifier\n",
    "from sklearn.ensemble import RandomForestClassifier\n",
    "\n",
    "class Models:\n",
    "\n",
    "    def __init__(self) -> None:\n",
    "        pass\n",
    "\n",
    "    def logistic_reg(self, x_test, x_train, y_train):\n",
    "        classes = LogisticRegression()\n",
    "        classes.fit(x_train, y_train)\n",
    "        return classes.predict(x_test)\n",
    "    \n",
    "    def knn_classifier(self, x_test, x_train, y_train):\n",
    "        classes = KNeighborsClassifier()\n",
    "        classes.fit(x_train, y_train)\n",
    "        return classes.predict(x_test)\n",
    "\n",
    "    def naive(self, x_test, x_train, y_train):\n",
    "        classes = GaussianNB()\n",
    "        classes.fit(x_train, y_train)\n",
    "        return classes.predict(x_test)\n",
    "    \n",
    "    def svc(self, x_test, x_train, y_train):\n",
    "        classes = SVC()\n",
    "        classes.fit(x_train, y_train)\n",
    "        return classes.predict(x_test)\n",
    "    \n",
    "    def kernel_svc(self, x_test, x_train, y_train):\n",
    "        classes = SVC()\n",
    "        classes.fit(x_train, y_train)\n",
    "        return classes.predict(x_test)\n",
    "    \n",
    "    def decision_tree(self, x_test, x_train, y_train):\n",
    "        classes = DecisionTreeClassifier()\n",
    "        classes.fit(x_train, y_train)\n",
    "        return classes.predict(x_test)\n",
    "\n",
    "    def random_forest(self, x_test, x_train, y_train):\n",
    "        classes = RandomForestClassifier(n_estimators= 20)\n",
    "        classes.fit(x_train, y_train)\n",
    "        return classes.predict(x_test)"
   ]
  },
  {
   "cell_type": "code",
   "execution_count": 38,
   "metadata": {},
   "outputs": [
    {
     "name": "stdout",
     "output_type": "stream",
     "text": [
      "    y_test  y_pred_logistic  y_pred_knn  y_pred_naive  y_pred_svc  \\\n",
      "0        0                0           0             0           0   \n",
      "1        0                0           0             0           0   \n",
      "2        1                0           1             1           0   \n",
      "3        0                0           0             1           0   \n",
      "4        0                0           0             0           0   \n",
      "..     ...              ...         ...           ...         ...   \n",
      "75       0                0           0             0           0   \n",
      "76       0                0           1             0           0   \n",
      "77       0                0           0             0           0   \n",
      "78       0                0           0             1           0   \n",
      "79       1                0           1             1           0   \n",
      "\n",
      "    y_pred_kernel_svc  y_pred_decision  y_pred_random_forest  \n",
      "0                   0                0                     0  \n",
      "1                   0                1                     1  \n",
      "2                   0                1                     1  \n",
      "3                   0                1                     1  \n",
      "4                   0                0                     0  \n",
      "..                ...              ...                   ...  \n",
      "75                  0                0                     0  \n",
      "76                  0                0                     0  \n",
      "77                  0                0                     0  \n",
      "78                  0                1                     1  \n",
      "79                  0                1                     1  \n",
      "\n",
      "[80 rows x 8 columns]\n"
     ]
    },
    {
     "name": "stderr",
     "output_type": "stream",
     "text": [
      "c:\\Users\\Nithin\\anaconda3\\lib\\site-packages\\sklearn\\neighbors\\_classification.py:228: FutureWarning: Unlike other reduction functions (e.g. `skew`, `kurtosis`), the default behavior of `mode` typically preserves the axis it acts along. In SciPy 1.11.0, this behavior will change: the default value of `keepdims` will become False, the `axis` over which the statistic is taken will be eliminated, and the value None will no longer be accepted. Set `keepdims` to True or False to avoid this warning.\n",
      "  mode, _ = stats.mode(_y[neigh_ind, k], axis=1)\n"
     ]
    }
   ],
   "source": [
    "classification = Models()\n",
    "y_pred_logistic = classification.logistic_reg(x_test, x_train, y_train)\n",
    "y_pred_knn = classification.knn_classifier(x_test, x_train, y_train)\n",
    "y_pred_naive = classification.naive(x_test, x_train, y_train)\n",
    "y_pred_svc = classification.svc(x_test, x_train, y_train)\n",
    "y_pred_kernel_svc = classification.kernel_svc(x_test, x_train, y_train)\n",
    "y_pred_decision = classification.decision_tree(x_test, x_train, y_train)\n",
    "y_pred_random_forest = classification.random_forest(x_test, x_train, y_train)\n",
    "\n",
    "outcomes = [y_test, y_pred_logistic, y_pred_knn, y_pred_naive, y_pred_svc, y_pred_kernel_svc, y_pred_decision, y_pred_random_forest]\n",
    "output = np.stack((outcomes), axis = 1)\n",
    "\n",
    "output = pd.DataFrame(output)\n",
    "output.columns = [\"y_test\", \"y_pred_logistic\", \"y_pred_knn\", \"y_pred_naive\", \"y_pred_svc\", \"y_pred_kernel_svc\", \"y_pred_decision\", \"y_pred_random_forest\"]\n",
    "print(output)"
   ]
  },
  {
   "cell_type": "code",
   "execution_count": 52,
   "metadata": {},
   "outputs": [
    {
     "name": "stdout",
     "output_type": "stream",
     "text": [
      "y_pred_logistic: 0.65\n",
      " y_pred_knn: 0.8375\n",
      " y_pred_naive: 0.9125\n",
      " y_pred_svc: 0.7875\n",
      " y_pred_kernel_svc: 0.7875\n",
      " y_pred_decision: 0.8625\n",
      " y_pred_random_forest: 0.85\n",
      "\n"
     ]
    }
   ],
   "source": [
    "from sklearn.metrics import confusion_matrix, accuracy_score\n",
    "\n",
    "def acc_score(y_test, pred):\n",
    "    return accuracy_score(y_test, pred)\n",
    "\n",
    "input = [y_test, y_test, y_test, y_test, y_test, y_test, y_test]\n",
    "\n",
    "accuracy = list(map(acc_score, input, outcomes[1:]))\n",
    "print(f\"y_pred_logistic: {accuracy[0]}\\n\", f\"y_pred_knn: {accuracy[1]}\\n\", f\"y_pred_naive: {accuracy[2]}\\n\", f\"y_pred_svc: {accuracy[3]}\\n\", f\"y_pred_kernel_svc: {accuracy[4]}\\n\", f\"y_pred_decision: {accuracy[5]}\\n\", f\"y_pred_random_forest: {accuracy[6]}\\n\")\n"
   ]
  },
  {
   "cell_type": "code",
   "execution_count": 55,
   "metadata": {},
   "outputs": [
    {
     "data": {
      "text/plain": [
       "\"\\n\\nfrom matplotlib.colors import ListedColormap\\nX_set, y_set = sc.inverse_transform(x_train), y_train\\nX1, X2 = np.meshgrid(np.arange(start = X_set[:, 0].min() - 10, stop = X_set[:, 0].max() + 10, step = 0.25),\\n                     np.arange(start = X_set[:, 1].min() - 1000, stop = X_set[:, 1].max() + 1000, step = 0.25))\\nplt.contourf(X1, X2, classifier.predict(sc.transform(np.array([X1.ravel(), X2.ravel()]).T)).reshape(X1.shape),\\n             alpha = 0.75, cmap = ListedColormap(('red', 'green')))\\nplt.xlim(X1.min(), X1.max())\\nplt.ylim(X2.min(), X2.max())\\nfor i, j in enumerate(np.unique(y_set)):\\n    plt.scatter(X_set[y_set == j, 0], X_set[y_set == j, 1], c = ListedColormap(('red', 'green'))(i), label = j)\\nplt.title('Kernel SVM (Training set)')\\nplt.xlabel('Age')\\nplt.ylabel('Estimated Salary')\\nplt.legend()\\nplt.show()\\n\\n\""
      ]
     },
     "execution_count": 55,
     "metadata": {},
     "output_type": "execute_result"
    }
   ],
   "source": [
    "\"\"\"\n",
    "\n",
    "from matplotlib.colors import ListedColormap\n",
    "X_set, y_set = sc.inverse_transform(x_train), y_train\n",
    "X1, X2 = np.meshgrid(np.arange(start = X_set[:, 0].min() - 10, stop = X_set[:, 0].max() + 10, step = 0.25),\n",
    "                     np.arange(start = X_set[:, 1].min() - 1000, stop = X_set[:, 1].max() + 1000, step = 0.25))\n",
    "plt.contourf(X1, X2, classifier.predict(sc.transform(np.array([X1.ravel(), X2.ravel()]).T)).reshape(X1.shape),\n",
    "             alpha = 0.75, cmap = ListedColormap(('red', 'green')))\n",
    "plt.xlim(X1.min(), X1.max())\n",
    "plt.ylim(X2.min(), X2.max())\n",
    "for i, j in enumerate(np.unique(y_set)):\n",
    "    plt.scatter(X_set[y_set == j, 0], X_set[y_set == j, 1], c = ListedColormap(('red', 'green'))(i), label = j)\n",
    "plt.title('Kernel SVM (Training set)')\n",
    "plt.xlabel('Age')\n",
    "plt.ylabel('Estimated Salary')\n",
    "plt.legend()\n",
    "plt.show()\n",
    "\n",
    "\"\"\""
   ]
  }
 ],
 "metadata": {
  "kernelspec": {
   "display_name": "base",
   "language": "python",
   "name": "python3"
  },
  "language_info": {
   "codemirror_mode": {
    "name": "ipython",
    "version": 3
   },
   "file_extension": ".py",
   "mimetype": "text/x-python",
   "name": "python",
   "nbconvert_exporter": "python",
   "pygments_lexer": "ipython3",
   "version": "3.9.13"
  },
  "orig_nbformat": 4
 },
 "nbformat": 4,
 "nbformat_minor": 2
}
